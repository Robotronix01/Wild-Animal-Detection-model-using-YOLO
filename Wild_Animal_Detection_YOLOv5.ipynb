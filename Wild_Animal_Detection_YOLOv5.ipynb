{
  "cells": [
    {
      "cell_type": "markdown",
      "metadata": {
        "id": "7mGmQbAO5pQb"
      },
      "source": [
        "#Install Dependencies\n",
        "\n",
        "_(Remember to choose GPU in Runtime if not already selected. Runtime --> Change Runtime Type --> Hardware accelerator --> GPU)_"
      ]
    },
    {
      "cell_type": "code",
      "execution_count": null,
      "metadata": {
        "colab": {
          "base_uri": "https://localhost:8080/"
        },
        "id": "Ie5uLDH4uzAp",
        "outputId": "80d2052b-85c9-4923-87eb-e55f0537a01c"
      },
      "outputs": [
        {
          "output_type": "stream",
          "name": "stdout",
          "text": [
            "Cloning into 'yolov5'...\n",
            "remote: Enumerating objects: 15305, done.\u001b[K\n",
            "remote: Counting objects: 100% (5/5), done.\u001b[K\n",
            "remote: Compressing objects: 100% (5/5), done.\u001b[K\n",
            "remote: Total 15305 (delta 0), reused 4 (delta 0), pack-reused 15300\u001b[K\n",
            "Receiving objects: 100% (15305/15305), 14.19 MiB | 30.65 MiB/s, done.\n",
            "Resolving deltas: 100% (10493/10493), done.\n",
            "/content/yolov5/yolov5\n",
            "HEAD is now at fbe67e4 Fix `OMP_NUM_THREADS=1` for macOS (#8624)\n"
          ]
        }
      ],
      "source": [
        "# clone YOLOv5 repository\n",
        "!git clone https://github.com/ultralytics/yolov5  # clone repo\n",
        "%cd yolov5\n",
        "!git reset --hard fbe67e465375231474a2ad80a4389efc77ecff99"
      ]
    },
    {
      "cell_type": "code",
      "execution_count": null,
      "metadata": {
        "colab": {
          "base_uri": "https://localhost:8080/"
        },
        "id": "wbvMlHd_QwMG",
        "outputId": "a6464d53-9f4d-412a-c04f-848491adec06"
      },
      "outputs": [
        {
          "output_type": "stream",
          "name": "stdout",
          "text": [
            "^C\n",
            "Setup complete. Using torch 1.13.1+cu116 _CudaDeviceProperties(name='Tesla T4', major=7, minor=5, total_memory=15101MB, multi_processor_count=40)\n"
          ]
        }
      ],
      "source": [
        "# install dependencies as necessary\n",
        "!pip install -qr requirements.txt  # install dependencies (ignore errors)\n",
        "import torch\n",
        "\n",
        "from IPython.display import Image, clear_output  # to display images\n",
        "from utils.downloads import attempt_download  # to download models/datasets\n",
        "\n",
        "# clear_output()\n",
        "print('Setup complete. Using torch %s %s' % (torch.__version__, torch.cuda.get_device_properties(0) if torch.cuda.is_available() else 'CPU'))"
      ]
    },
    {
      "cell_type": "markdown",
      "metadata": {
        "id": "SDIhrBF0sPaM"
      },
      "source": [
        "# Download Correctly Formatted Custom Dataset \n",
        "\n",
        "We'll download our dataset from Roboflow. Use the \"**YOLOv5 PyTorch**\" export format. Note that the Ultralytics implementation calls for a YAML file defining where your training and test data is. The Roboflow export also writes this format for us.\n",
        "\n",
        "To get your data into Roboflow, follow the [Getting Started Guide](https://blog.roboflow.ai/getting-started-with-roboflow/)."
      ]
    },
    {
      "cell_type": "code",
      "execution_count": null,
      "metadata": {
        "colab": {
          "base_uri": "https://localhost:8080/"
        },
        "id": "oWXac6CvBhay",
        "outputId": "91fb628c-4e37-4143-9bb3-c3c5e4327ba2"
      },
      "outputs": [
        {
          "output_type": "stream",
          "name": "stdout",
          "text": [
            "Looking in indexes: https://pypi.org/simple, https://us-python.pkg.dev/colab-wheels/public/simple/\n",
            "Requirement already satisfied: roboflow in /usr/local/lib/python3.9/dist-packages (1.0.1)\n",
            "Requirement already satisfied: chardet==4.0.0 in /usr/local/lib/python3.9/dist-packages (from roboflow) (4.0.0)\n",
            "Requirement already satisfied: matplotlib in /usr/local/lib/python3.9/dist-packages (from roboflow) (3.5.3)\n",
            "Requirement already satisfied: wget in /usr/local/lib/python3.9/dist-packages (from roboflow) (3.2)\n",
            "Requirement already satisfied: six in /usr/local/lib/python3.9/dist-packages (from roboflow) (1.15.0)\n",
            "Requirement already satisfied: tqdm>=4.41.0 in /usr/local/lib/python3.9/dist-packages (from roboflow) (4.65.0)\n",
            "Requirement already satisfied: PyYAML>=5.3.1 in /usr/local/lib/python3.9/dist-packages (from roboflow) (6.0)\n",
            "Requirement already satisfied: requests in /usr/local/lib/python3.9/dist-packages (from roboflow) (2.25.1)\n",
            "Requirement already satisfied: urllib3>=1.26.6 in /usr/local/lib/python3.9/dist-packages (from roboflow) (1.26.15)\n",
            "Requirement already satisfied: kiwisolver>=1.3.1 in /usr/local/lib/python3.9/dist-packages (from roboflow) (1.4.4)\n",
            "Requirement already satisfied: numpy>=1.18.5 in /usr/local/lib/python3.9/dist-packages (from roboflow) (1.22.4)\n",
            "Requirement already satisfied: opencv-python>=4.1.2 in /usr/local/lib/python3.9/dist-packages (from roboflow) (4.6.0.66)\n",
            "Requirement already satisfied: python-dotenv in /usr/local/lib/python3.9/dist-packages (from roboflow) (1.0.0)\n",
            "Requirement already satisfied: certifi==2022.12.7 in /usr/local/lib/python3.9/dist-packages (from roboflow) (2022.12.7)\n",
            "Requirement already satisfied: requests-toolbelt in /usr/local/lib/python3.9/dist-packages (from roboflow) (0.10.1)\n",
            "Requirement already satisfied: idna==2.10 in /usr/local/lib/python3.9/dist-packages (from roboflow) (2.10)\n",
            "Requirement already satisfied: cycler==0.10.0 in /usr/local/lib/python3.9/dist-packages (from roboflow) (0.10.0)\n",
            "Requirement already satisfied: Pillow>=7.1.2 in /usr/local/lib/python3.9/dist-packages (from roboflow) (8.4.0)\n",
            "Requirement already satisfied: python-dateutil in /usr/local/lib/python3.9/dist-packages (from roboflow) (2.8.2)\n",
            "Requirement already satisfied: pyparsing==2.4.7 in /usr/local/lib/python3.9/dist-packages (from roboflow) (2.4.7)\n",
            "Requirement already satisfied: packaging>=20.0 in /usr/local/lib/python3.9/dist-packages (from matplotlib->roboflow) (23.0)\n",
            "Requirement already satisfied: fonttools>=4.22.0 in /usr/local/lib/python3.9/dist-packages (from matplotlib->roboflow) (4.39.0)\n",
            "loading Roboflow workspace...\n",
            "loading Roboflow project...\n",
            "Downloading Dataset Version Zip in Wild_Animal_Detection-1 to yolov5pytorch: 100% [22579028 / 22579028] bytes\n"
          ]
        },
        {
          "output_type": "stream",
          "name": "stderr",
          "text": [
            "Extracting Dataset Version Zip to Wild_Animal_Detection-1 in yolov5pytorch:: 100%|██████████| 1859/1859 [00:01<00:00, 1580.75it/s]\n"
          ]
        }
      ],
      "source": [
        "!pip install roboflow\n",
        "\n",
        "from roboflow import Roboflow\n",
        "rf = Roboflow(api_key=your key)\n",
        "project = rf.workspace(\"akanksha\").project(\"wild_animal_detection\")\n",
        "dataset = project.version(1).download(\"yolov5\")\n",
        "\n"
      ]
    },
    {
      "cell_type": "code",
      "execution_count": null,
      "metadata": {
        "colab": {
          "base_uri": "https://localhost:8080/"
        },
        "id": "ZZ3DmmGQztJj",
        "outputId": "915902f6-2423-4872-fc3a-bab85cf75744"
      },
      "outputs": [
        {
          "output_type": "stream",
          "name": "stdout",
          "text": [
            "names:\n",
            "- '0'\n",
            "- '1'\n",
            "- '2'\n",
            "- '3'\n",
            "nc: 4\n",
            "roboflow:\n",
            "  license: Private\n",
            "  project: wild_animal_detection\n",
            "  url: https://app.roboflow.com/project/wild_animal_detection/1\n",
            "  version: 1\n",
            "  workspace: project\n",
            "test: ../test/images\n",
            "train: Wild_Animal_Detection-1/train/images\n",
            "val: Wild_Animal_Detection-1/valid/images\n"
          ]
        }
      ],
      "source": [
        "# this is the YAML file Roboflow wrote for us that we're loading into this notebook with our data\n",
        "%cat {dataset.location}/data.yaml"
      ]
    },
    {
      "cell_type": "markdown",
      "metadata": {
        "id": "UwJx-2NHsYxT"
      },
      "source": [
        "# Define Model Configuration and Architecture\n",
        "\n",
        "We will write a yaml script that defines the parameters for our model like the number of classes, anchors, and each layer.\n",
        "\n",
        "You do not need to edit these cells, but you may."
      ]
    },
    {
      "cell_type": "code",
      "execution_count": null,
      "metadata": {
        "id": "dOPn9wjOAwwK"
      },
      "outputs": [],
      "source": [
        "# define number of classes based on YAML\n",
        "import yaml\n",
        "with open(dataset.location + \"/data.yaml\", 'r') as stream:\n",
        "    num_classes = str(yaml.safe_load(stream)['nc'])"
      ]
    },
    {
      "cell_type": "code",
      "execution_count": null,
      "metadata": {
        "id": "t14hhyqdmw6O"
      },
      "outputs": [],
      "source": [
        "#customize iPython writefile so we can write variables\n",
        "from IPython.core.magic import register_line_cell_magic\n",
        "\n",
        "@register_line_cell_magic\n",
        "def writetemplate(line, cell):\n",
        "    with open(line, 'w') as f:\n",
        "        f.write(cell.format(**globals()))"
      ]
    },
    {
      "cell_type": "code",
      "execution_count": null,
      "metadata": {
        "id": "mULTMBTtk4U3"
      },
      "outputs": [],
      "source": [
        "%%writetemplate /content/yolov5/models/custom_yolov5s.yaml\n",
        "\n",
        "# parameters\n",
        "nc: {num_classes}  # number of classes\n",
        "depth_multiple: 0.33  # model depth multiple\n",
        "width_multiple: 0.50  # layer channel multiple\n",
        "\n",
        "# anchors\n",
        "anchors:\n",
        "  - [10,13, 16,30, 33,23]  # P3/8\n",
        "  - [30,61, 62,45, 59,119]  # P4/16\n",
        "  - [116,90, 156,198, 373,326]  # P5/32\n",
        "\n",
        "# YOLOv5 backbone\n",
        "backbone:\n",
        "  # [from, number, module, args]\n",
        "  [[-1, 1, Focus, [64, 3]],  # 0-P1/2\n",
        "   [-1, 1, Conv, [128, 3, 2]],  # 1-P2/4\n",
        "   [-1, 3, BottleneckCSP, [128]],\n",
        "   [-1, 1, Conv, [256, 3, 2]],  # 3-P3/8\n",
        "   [-1, 9, BottleneckCSP, [256]],\n",
        "   [-1, 1, Conv, [512, 3, 2]],  # 5-P4/16\n",
        "   [-1, 9, BottleneckCSP, [512]],\n",
        "   [-1, 1, Conv, [1024, 3, 2]],  # 7-P5/32\n",
        "   [-1, 1, SPP, [1024, [5, 9, 13]]],\n",
        "   [-1, 3, BottleneckCSP, [1024, False]],  # 9\n",
        "  ]\n",
        "\n",
        "# YOLOv5 head\n",
        "head:\n",
        "  [[-1, 1, Conv, [512, 1, 1]],\n",
        "   [-1, 1, nn.Upsample, [None, 2, 'nearest']],\n",
        "   [[-1, 6], 1, Concat, [1]],  # cat backbone P4\n",
        "   [-1, 3, BottleneckCSP, [512, False]],  # 13\n",
        "\n",
        "   [-1, 1, Conv, [256, 1, 1]],\n",
        "   [-1, 1, nn.Upsample, [None, 2, 'nearest']],\n",
        "   [[-1, 4], 1, Concat, [1]],  # cat backbone P3\n",
        "   [-1, 3, BottleneckCSP, [256, False]],  # 17 (P3/8-small)\n",
        "\n",
        "   [-1, 1, Conv, [256, 3, 2]],\n",
        "   [[-1, 14], 1, Concat, [1]],  # cat head P4\n",
        "   [-1, 3, BottleneckCSP, [512, False]],  # 20 (P4/16-medium)\n",
        "\n",
        "   [-1, 1, Conv, [512, 3, 2]],\n",
        "   [[-1, 10], 1, Concat, [1]],  # cat head P5\n",
        "   [-1, 3, BottleneckCSP, [1024, False]],  # 23 (P5/32-large)\n",
        "\n",
        "   [[17, 20, 23], 1, Detect, [nc, anchors]],  # Detect(P3, P4, P5)\n",
        "  ]"
      ]
    },
    {
      "cell_type": "code",
      "execution_count": null,
      "metadata": {
        "colab": {
          "base_uri": "https://localhost:8080/"
        },
        "id": "dm2Aj3FnAOmy",
        "outputId": "ab046891-5ce2-445b-ddc4-ceed939a9e00"
      },
      "outputs": [
        {
          "output_type": "stream",
          "name": "stdout",
          "text": [
            "/content\n",
            "custom model config written\n"
          ]
        }
      ],
      "source": [
        "%cd /content/\n",
        "with open('yolov5/models/custom_yolov5s.yaml','w') as f:\n",
        "  print('custom model config written')"
      ]
    },
    {
      "cell_type": "markdown",
      "metadata": {
        "id": "VUOiNLtMP5aG"
      },
      "source": [
        "# Train Custom YOLOv5 Detector\n",
        "\n",
        "### Next, we'll fire off training!\n",
        "\n",
        "\n",
        "Here, we are able to pass a number of arguments:\n",
        "- **img:** define input image size\n",
        "- **batch:** determine batch size\n",
        "- **epochs:** define the number of training epochs. (Note: often, 3000+ are common here!)\n",
        "- **data:** set the path to our yaml file\n",
        "- **cfg:** specify our model configuration\n",
        "- **weights:** specify a custom path to weights. (Note: you can download weights from the Ultralytics Google Drive [folder](https://drive.google.com/open?id=1Drs_Aiu7xx6S-ix95f9kNsA6ueKRpN2J))\n",
        "- **name:** result names\n",
        "- **nosave:** only save the final checkpoint\n",
        "- **cache:** cache images for faster training"
      ]
    },
    {
      "cell_type": "code",
      "execution_count": null,
      "metadata": {
        "colab": {
          "base_uri": "https://localhost:8080/"
        },
        "id": "1NcFxRcFdJ_O",
        "outputId": "b9f3f2a9-d06a-49e0-a2ec-07275a66543f"
      },
      "outputs": [
        {
          "output_type": "stream",
          "name": "stdout",
          "text": [
            "/content/yolov5\n",
            "\u001b[34m\u001b[1mtrain: \u001b[0mweights=, cfg=./models/custom_yolov5s.yaml, data=/content/yolov5/yolov5/Wild_Animal_Detection-1/data.yaml, hyp=data/hyps/hyp.scratch-low.yaml, epochs=100, batch_size=16, imgsz=416, rect=False, resume=False, nosave=False, noval=False, noautoanchor=False, noplots=False, evolve=None, bucket=, cache=ram, image_weights=False, device=, multi_scale=False, single_cls=False, optimizer=SGD, sync_bn=False, workers=8, project=runs/train, name=yolov5s_results, exist_ok=False, quad=False, cos_lr=False, label_smoothing=0.0, patience=100, freeze=[0], save_period=-1, seed=0, local_rank=-1, entity=None, upload_dataset=False, bbox_interval=-1, artifact_alias=latest\n",
            "\u001b[34m\u001b[1mgithub: \u001b[0m⚠️ YOLOv5 is out of date by 484 commits. Use `git pull` or `git clone https://github.com/ultralytics/yolov5` to update.\n",
            "YOLOv5 🚀 v6.1-306-gfbe67e4 Python-3.9.16 torch-1.13.1+cu116 CUDA:0 (Tesla T4, 15102MiB)\n",
            "\n",
            "\u001b[34m\u001b[1mhyperparameters: \u001b[0mlr0=0.01, lrf=0.01, momentum=0.937, weight_decay=0.0005, warmup_epochs=3.0, warmup_momentum=0.8, warmup_bias_lr=0.1, box=0.05, cls=0.5, cls_pw=1.0, obj=1.0, obj_pw=1.0, iou_t=0.2, anchor_t=4.0, fl_gamma=0.0, hsv_h=0.015, hsv_s=0.7, hsv_v=0.4, degrees=0.0, translate=0.1, scale=0.5, shear=0.0, perspective=0.0, flipud=0.0, fliplr=0.5, mosaic=1.0, mixup=0.0, copy_paste=0.0\n",
            "\u001b[34m\u001b[1mWeights & Biases: \u001b[0mrun 'pip install wandb' to automatically track and visualize YOLOv5 🚀 runs (RECOMMENDED)\n",
            "\u001b[34m\u001b[1mTensorBoard: \u001b[0mStart with 'tensorboard --logdir runs/train', view at http://localhost:6006/\n",
            "2023-03-16 11:06:47.772630: I tensorflow/core/platform/cpu_feature_guard.cc:193] This TensorFlow binary is optimized with oneAPI Deep Neural Network Library (oneDNN) to use the following CPU instructions in performance-critical operations:  AVX2 FMA\n",
            "To enable them in other operations, rebuild TensorFlow with the appropriate compiler flags.\n",
            "2023-03-16 11:06:48.862262: W tensorflow/compiler/xla/stream_executor/platform/default/dso_loader.cc:64] Could not load dynamic library 'libnvinfer.so.7'; dlerror: libnvinfer.so.7: cannot open shared object file: No such file or directory; LD_LIBRARY_PATH: /usr/local/lib/python3.9/dist-packages/cv2/../../lib64:/usr/local/lib/python3.9/dist-packages/cv2/../../lib64:/usr/lib64-nvidia\n",
            "2023-03-16 11:06:48.862413: W tensorflow/compiler/xla/stream_executor/platform/default/dso_loader.cc:64] Could not load dynamic library 'libnvinfer_plugin.so.7'; dlerror: libnvinfer_plugin.so.7: cannot open shared object file: No such file or directory; LD_LIBRARY_PATH: /usr/local/lib/python3.9/dist-packages/cv2/../../lib64:/usr/local/lib/python3.9/dist-packages/cv2/../../lib64:/usr/lib64-nvidia\n",
            "2023-03-16 11:06:48.862433: W tensorflow/compiler/tf2tensorrt/utils/py_utils.cc:38] TF-TRT Warning: Cannot dlopen some TensorRT libraries. If you would like to use Nvidia GPU with TensorRT, please make sure the missing libraries mentioned above are installed properly.\n",
            "Traceback (most recent call last):\n",
            "  File \"/content/yolov5/train.py\", line 642, in <module>\n",
            "    main(opt)\n",
            "  File \"/content/yolov5/train.py\", line 537, in main\n",
            "    train(opt.hyp, opt, device, callbacks)\n",
            "  File \"/content/yolov5/train.py\", line 127, in train\n",
            "    model = Model(cfg, ch=3, nc=nc, anchors=hyp.get('anchors')).to(device)  # create\n",
            "  File \"/content/yolov5/models/yolo.py\", line 105, in __init__\n",
            "    ch = self.yaml['ch'] = self.yaml.get('ch', ch)  # input channels\n",
            "AttributeError: 'NoneType' object has no attribute 'get'\n",
            "CPU times: user 48.2 ms, sys: 13.4 ms, total: 61.6 ms\n",
            "Wall time: 8.1 s\n"
          ]
        }
      ],
      "source": [
        "# train yolov5s on custom data for 100 epochs\n",
        "# time its performance\n",
        "%%time\n",
        "%cd /content/yolov5/\n",
        "!python train.py --img 416 --batch 16 --epochs 100 --data {dataset.location}/data.yaml --cfg ./models/custom_yolov5s.yaml --weights '' --name yolov5s_results  --cache"
      ]
    },
    {
      "cell_type": "markdown",
      "metadata": {
        "id": "N3qM6T0W53gh"
      },
      "source": [
        "#Run Inference  With Trained Weights\n",
        "Run inference with a pretrained checkpoint on contents of `test/images` folder downloaded from Roboflow."
      ]
    },
    {
      "cell_type": "code",
      "execution_count": null,
      "metadata": {
        "colab": {
          "base_uri": "https://localhost:8080/"
        },
        "id": "yIEwt5YLeQ7P",
        "outputId": "0d302371-d03c-4fb9-b788-6e9d49a14047"
      },
      "outputs": [
        {
          "output_type": "stream",
          "name": "stdout",
          "text": [
            "\u001b[0m\u001b[01;34mdetect\u001b[0m/  \u001b[01;34mtrain\u001b[0m/\n"
          ]
        }
      ],
      "source": [
        "# trained weights are saved by default in our weights folder\n",
        "%ls runs/"
      ]
    },
    {
      "cell_type": "code",
      "execution_count": null,
      "metadata": {
        "colab": {
          "base_uri": "https://localhost:8080/"
        },
        "id": "4SyOWS80qR32",
        "outputId": "cc339d9d-42da-4a47-bf19-fd698fb8828a"
      },
      "outputs": [
        {
          "output_type": "stream",
          "name": "stdout",
          "text": [
            "best.pt  last.pt\n"
          ]
        }
      ],
      "source": [
        "%ls runs/train/yolov5s_results3/weights"
      ]
    },
    {
      "cell_type": "code",
      "execution_count": null,
      "metadata": {
        "colab": {
          "base_uri": "https://localhost:8080/"
        },
        "id": "9nmZZnWOgJ2S",
        "outputId": "62f13aa9-8fd4-4d3f-a3bf-0dc0a486d45c"
      },
      "outputs": [
        {
          "output_type": "stream",
          "name": "stdout",
          "text": [
            "/content/yolov5\n",
            "\u001b[34m\u001b[1mdetect: \u001b[0mweights=['runs/train/yolov5s_results3/weights/best.pt'], source=/content/yolov5/Wild_Animal_Detection-1/test/images/, data=data/coco128.yaml, imgsz=[416, 416], conf_thres=0.4, iou_thres=0.45, max_det=1000, device=, view_img=False, save_txt=False, save_conf=False, save_crop=False, nosave=False, classes=None, agnostic_nms=False, augment=False, visualize=False, update=False, project=runs/detect, name=exp, exist_ok=False, line_thickness=3, hide_labels=False, hide_conf=False, half=False, dnn=False\n",
            "YOLOv5 🚀 v6.1-306-gfbe67e4 Python-3.9.16 torch-1.13.1+cu116 CUDA:0 (Tesla T4, 15102MiB)\n",
            "\n",
            "Fusing layers... \n",
            "custom_YOLOv5s summary: 232 layers, 7254609 parameters, 0 gradients, 16.8 GFLOPs\n",
            "image 1/92 /content/yolov5/Wild_Animal_Detection-1/test/images/1677_jpg.rf.e11eb79212011cbdcba83c841825d150.jpg: 416x416 1 Deer, Done. (0.014s)\n",
            "image 2/92 /content/yolov5/Wild_Animal_Detection-1/test/images/1678_jpg.rf.74bf9274c55f370ada6dab868604bc6d.jpg: 416x416 1 Deer, Done. (0.022s)\n",
            "image 3/92 /content/yolov5/Wild_Animal_Detection-1/test/images/1710_jpg.rf.7cccefb43457236b481237d014f7286a.jpg: 416x416 1 Deer, Done. (0.015s)\n",
            "image 4/92 /content/yolov5/Wild_Animal_Detection-1/test/images/1724_jpg.rf.443445d2a252c2f8b5160121091f34e6.jpg: 416x416 1 Deer, Done. (0.024s)\n",
            "image 5/92 /content/yolov5/Wild_Animal_Detection-1/test/images/1756_jpg.rf.effe676eef63b893db11e1494de1d864.jpg: 416x416 1 Deer, Done. (0.014s)\n",
            "image 6/92 /content/yolov5/Wild_Animal_Detection-1/test/images/1764_jpg.rf.b72a95537ddf90b403d0162d8bf51263.jpg: 416x416 1 Deer, Done. (0.013s)\n",
            "image 7/92 /content/yolov5/Wild_Animal_Detection-1/test/images/1779_jpg.rf.a8bae3c564fe16132e014fca608a2aed.jpg: 416x416 1 Deer, Done. (0.014s)\n",
            "image 8/92 /content/yolov5/Wild_Animal_Detection-1/test/images/1781_jpg.rf.4c91c9d38a88308a255ba7a17a7e3ac2.jpg: 416x416 1 Deer, Done. (0.013s)\n",
            "image 9/92 /content/yolov5/Wild_Animal_Detection-1/test/images/1782_jpg.rf.e75e9818d2d849be30ec77d409f1fd8e.jpg: 416x416 1 Deer, Done. (0.013s)\n",
            "image 10/92 /content/yolov5/Wild_Animal_Detection-1/test/images/1812_jpg.rf.db2423baafb95fa918865f775378d3ca.jpg: 416x416 1 Deer, Done. (0.015s)\n",
            "image 11/92 /content/yolov5/Wild_Animal_Detection-1/test/images/1860_jpg.rf.596f22c8c84811a6a0567b1d6cdeee1b.jpg: 416x416 1 Deer, Done. (0.014s)\n",
            "image 12/92 /content/yolov5/Wild_Animal_Detection-1/test/images/1896_jpg.rf.08d415f2a1c4ec860ae75b3e4c0f7c0d.jpg: 416x416 1 Deer, Done. (0.015s)\n",
            "image 13/92 /content/yolov5/Wild_Animal_Detection-1/test/images/3333_jpg.rf.dc14187b8c613610354a0dcb9cc545aa.jpg: 416x416 1 Fox, Done. (0.016s)\n",
            "image 14/92 /content/yolov5/Wild_Animal_Detection-1/test/images/3450_jpg.rf.3a66ccd6b36edce9d805ca5b4bfb60aa.jpg: 416x416 1 Fox, Done. (0.015s)\n",
            "image 15/92 /content/yolov5/Wild_Animal_Detection-1/test/images/3481_jpg.rf.54394f9d78f4e1fbe92dd1b7ab4cc2f8.jpg: 416x416 1 Fox, Done. (0.014s)\n",
            "image 16/92 /content/yolov5/Wild_Animal_Detection-1/test/images/4401_jpg.rf.6483e27deefec9ebcd8738a989a149e6.jpg: 416x416 1 Fox, Done. (0.014s)\n",
            "image 17/92 /content/yolov5/Wild_Animal_Detection-1/test/images/4424_jpg.rf.ff0129ce51cb8c6d615ace8d0f3230fc.jpg: 416x416 1 Fox, Done. (0.015s)\n",
            "image 18/92 /content/yolov5/Wild_Animal_Detection-1/test/images/4497_jpg.rf.08693fd020795eb2ad7c8cf48a43a79d.jpg: 416x416 1 Fox, Done. (0.014s)\n",
            "image 19/92 /content/yolov5/Wild_Animal_Detection-1/test/images/4540_jpg.rf.208d6bd48477f64dd0f6cdfa8e33514e.jpg: 416x416 1 Fox, Done. (0.015s)\n",
            "image 20/92 /content/yolov5/Wild_Animal_Detection-1/test/images/4599_jpg.rf.cb293ed5ed56b5caabddb8fd01ec6869.jpg: 416x416 1 Fox, Done. (0.016s)\n",
            "image 21/92 /content/yolov5/Wild_Animal_Detection-1/test/images/4612_jpg.rf.5b75b93bfa2d161ae47346653e64fb42.jpg: 416x416 1 Fox, Done. (0.014s)\n",
            "image 22/92 /content/yolov5/Wild_Animal_Detection-1/test/images/4615_jpg.rf.5a3c8202ef7be807b43ec904f0e457ba.jpg: 416x416 1 Fox, Done. (0.016s)\n",
            "image 23/92 /content/yolov5/Wild_Animal_Detection-1/test/images/4625_jpg.rf.5ffb6d2e703a60fd888b23a91bef0e76.jpg: 416x416 1 Fox, Done. (0.015s)\n",
            "image 24/92 /content/yolov5/Wild_Animal_Detection-1/test/images/4626_jpg.rf.73d2bcbe03e50b0b6d382984d0656bec.jpg: 416x416 1 Fox, Done. (0.014s)\n",
            "image 25/92 /content/yolov5/Wild_Animal_Detection-1/test/images/4656_jpg.rf.d986874a29e87a16b4dcde53492da62f.jpg: 416x416 1 Fox, Done. (0.016s)\n",
            "image 26/92 /content/yolov5/Wild_Animal_Detection-1/test/images/4657_jpg.rf.cee18cb96566c9ffcf0bbe253b613ba6.jpg: 416x416 1 Fox, Done. (0.014s)\n",
            "image 27/92 /content/yolov5/Wild_Animal_Detection-1/test/images/4666_jpg.rf.266f7a345ef02c53e582f2555d712ead.jpg: 416x416 1 Fox, Done. (0.016s)\n",
            "image 28/92 /content/yolov5/Wild_Animal_Detection-1/test/images/4668_jpg.rf.203d51c947f5a90b07587781f3e82d4c.jpg: 416x416 1 Fox, Done. (0.018s)\n",
            "image 29/92 /content/yolov5/Wild_Animal_Detection-1/test/images/4670_jpg.rf.f304acdf52733b48eab2f24d366a6a3f.jpg: 416x416 1 Fox, Done. (0.015s)\n",
            "image 30/92 /content/yolov5/Wild_Animal_Detection-1/test/images/4701_jpg.rf.a29ed25015e5896ae29393e7898ea869.jpg: 416x416 1 Fox, Done. (0.016s)\n",
            "image 31/92 /content/yolov5/Wild_Animal_Detection-1/test/images/4725_jpg.rf.4337d19f6aa45324d84d59fa8e654525.jpg: 416x416 1 Fox, Done. (0.016s)\n",
            "image 32/92 /content/yolov5/Wild_Animal_Detection-1/test/images/4740_jpg.rf.860eecd7455ad487c2addafea2baf022.jpg: 416x416 1 Cat, Done. (0.015s)\n",
            "image 33/92 /content/yolov5/Wild_Animal_Detection-1/test/images/6673_jpg.rf.ffde81a08a93784aa44c8a2ba69192d8.jpg: 416x416 1 Cat, Done. (0.015s)\n",
            "image 34/92 /content/yolov5/Wild_Animal_Detection-1/test/images/6678_jpg.rf.0accccd647e898e295ebfd154c3555d7.jpg: 416x416 1 Cat, Done. (0.015s)\n",
            "image 35/92 /content/yolov5/Wild_Animal_Detection-1/test/images/6679_jpg.rf.bcb99d24b250d23b95a5e834c907ce0a.jpg: 416x416 1 Cat, Done. (0.017s)\n",
            "image 36/92 /content/yolov5/Wild_Animal_Detection-1/test/images/6720_jpg.rf.8457dd853008819653950c5edd02873b.jpg: 416x416 1 Cat, Done. (0.015s)\n",
            "image 37/92 /content/yolov5/Wild_Animal_Detection-1/test/images/6724_jpg.rf.52da7acdcdaad00128e6d1c7caab4544.jpg: 416x416 1 Cat, Done. (0.037s)\n",
            "image 38/92 /content/yolov5/Wild_Animal_Detection-1/test/images/6727_jpg.rf.a698861f83ad259e121229779aa71e85.jpg: 416x416 1 Cat, Done. (0.022s)\n",
            "image 39/92 /content/yolov5/Wild_Animal_Detection-1/test/images/6739_jpg.rf.ea8d88ce037dd93d75c87de9bccb8a1c.jpg: 416x416 1 Cat, Done. (0.015s)\n",
            "image 40/92 /content/yolov5/Wild_Animal_Detection-1/test/images/6761_jpg.rf.92282ef0ecdf328fdd6e0b1cb656c8c0.jpg: 416x416 1 Cat, Done. (0.015s)\n",
            "image 41/92 /content/yolov5/Wild_Animal_Detection-1/test/images/6764_jpg.rf.7bbbca1be2d3e518549727d6ee7e6701.jpg: 416x416 1 Cat, Done. (0.015s)\n",
            "image 42/92 /content/yolov5/Wild_Animal_Detection-1/test/images/6766_jpg.rf.e603c377c87cacd40e5810762262c29b.jpg: 416x416 1 Cat, Done. (0.037s)\n",
            "image 43/92 /content/yolov5/Wild_Animal_Detection-1/test/images/6780_jpg.rf.f2c610f7f0cdfd69f84c5198f5af8aca.jpg: 416x416 1 Cat, Done. (0.022s)\n",
            "image 44/92 /content/yolov5/Wild_Animal_Detection-1/test/images/6784_jpg.rf.15e9fa6f172ad5306ad26a86b244acf0.jpg: 416x416 1 Cat, Done. (0.016s)\n",
            "image 45/92 /content/yolov5/Wild_Animal_Detection-1/test/images/6815_jpg.rf.11e2c00ae5dd4be6801b1baebed9b138.jpg: 416x416 1 Cat, Done. (0.015s)\n",
            "image 46/92 /content/yolov5/Wild_Animal_Detection-1/test/images/6820_jpg.rf.7e61ba529b0010cb28f888be0d68ba58.jpg: 416x416 1 Cat, Done. (0.014s)\n",
            "image 47/92 /content/yolov5/Wild_Animal_Detection-1/test/images/6825_jpg.rf.9e73252e5b2e854b52e07579b1f320b9.jpg: 416x416 1 Cat, Done. (0.014s)\n",
            "image 48/92 /content/yolov5/Wild_Animal_Detection-1/test/images/6835_jpg.rf.2c05a965fd7edb446043ff412999952b.jpg: 416x416 1 Cat, Done. (0.015s)\n",
            "image 49/92 /content/yolov5/Wild_Animal_Detection-1/test/images/6839_jpg.rf.5bbef80086fe143f4ed796e097dcc972.jpg: 416x416 1 Cat, Done. (0.016s)\n",
            "image 50/92 /content/yolov5/Wild_Animal_Detection-1/test/images/6849_jpg.rf.84a91a458314d7704b5deb56580e2b0c.jpg: 416x416 1 Cat, Done. (0.018s)\n",
            "image 51/92 /content/yolov5/Wild_Animal_Detection-1/test/images/6883_jpg.rf.cd14439d018262d26716fd9d6e3c4091.jpg: 416x416 1 Cat, Done. (0.041s)\n",
            "image 52/92 /content/yolov5/Wild_Animal_Detection-1/test/images/6884_jpg.rf.7c2c70c60370218455727b770741a825.jpg: 416x416 1 Cat, Done. (0.053s)\n",
            "image 53/92 /content/yolov5/Wild_Animal_Detection-1/test/images/6886_jpg.rf.22e2f5ed6376fdcd6893eca2b0067f4e.jpg: 416x416 1 Cat, Done. (0.032s)\n",
            "image 54/92 /content/yolov5/Wild_Animal_Detection-1/test/images/6939_jpg.rf.ab8c4c57419a791a9591734f7ddbf008.jpg: 416x416 1 Cat, Done. (0.017s)\n",
            "image 55/92 /content/yolov5/Wild_Animal_Detection-1/test/images/7076_jpg.rf.e9e7a32895471055e5343f3372fb6801.jpg: 416x416 1 Cat, Done. (0.016s)\n",
            "image 56/92 /content/yolov5/Wild_Animal_Detection-1/test/images/7082_jpg.rf.7b3ee81402b3b568787f80d31d5cfd1f.jpg: 416x416 1 Cat, Done. (0.020s)\n",
            "image 57/92 /content/yolov5/Wild_Animal_Detection-1/test/images/7097_jpg.rf.4f50beed5c28389e0d6f74de6be35598.jpg: 416x416 1 Cat, Done. (0.045s)\n",
            "image 58/92 /content/yolov5/Wild_Animal_Detection-1/test/images/7140_jpg.rf.45a65fa6989254c60ec0863edeb1fb3d.jpg: 416x416 2 Foxs, Done. (0.018s)\n",
            "image 59/92 /content/yolov5/Wild_Animal_Detection-1/test/images/7154_jpg.rf.56a3043e7af8102f8586d2345cf6f2d1.jpg: 416x416 1 Fox, Done. (0.013s)\n",
            "image 60/92 /content/yolov5/Wild_Animal_Detection-1/test/images/7165_jpg.rf.3c981172705592bd9e4720a29c953794.jpg: 416x416 1 Fox, Done. (0.013s)\n",
            "image 61/92 /content/yolov5/Wild_Animal_Detection-1/test/images/7249_jpg.rf.68e1cd91d0e4bf2444d0e1989c4adf0d.jpg: 416x416 1 Fox, Done. (0.082s)\n",
            "image 62/92 /content/yolov5/Wild_Animal_Detection-1/test/images/7277_jpg.rf.01e3d5f57361e1bdc88cd5be1f65e6d1.jpg: 416x416 2 Foxs, Done. (0.068s)\n",
            "image 63/92 /content/yolov5/Wild_Animal_Detection-1/test/images/7284_jpg.rf.6361d92ffb91d694e3d91dc8599ed331.jpg: 416x416 1 Fox, Done. (0.047s)\n",
            "image 64/92 /content/yolov5/Wild_Animal_Detection-1/test/images/7313_jpg.rf.cddf933bd2b1919e5cb396fd3d6f7c3d.jpg: 416x416 2 Foxs, Done. (0.034s)\n",
            "image 65/92 /content/yolov5/Wild_Animal_Detection-1/test/images/7319_jpg.rf.57bdba01ffe90a9c886e13b9045be05d.jpg: 416x416 1 Fox, Done. (0.026s)\n",
            "image 66/92 /content/yolov5/Wild_Animal_Detection-1/test/images/7371_jpg.rf.1b1b9948e8a52922ac25cc6ca5f69860.jpg: 416x416 Done. (0.028s)\n",
            "image 67/92 /content/yolov5/Wild_Animal_Detection-1/test/images/7379_jpg.rf.2bc057e9682cebe5e2af94d1d19a786e.jpg: 416x416 1 Fox, Done. (0.027s)\n",
            "image 68/92 /content/yolov5/Wild_Animal_Detection-1/test/images/7384_jpg.rf.f2974e9d83fa334fb169cd1abe4f1ff0.jpg: 416x416 1 Fox, Done. (0.015s)\n",
            "image 69/92 /content/yolov5/Wild_Animal_Detection-1/test/images/7397_jpg.rf.1748880a34608d342cd7c44ecd942bb2.jpg: 416x416 1 Fox, Done. (0.014s)\n",
            "image 70/92 /content/yolov5/Wild_Animal_Detection-1/test/images/7491_jpg.rf.9bb6dd5f3c72894e2774979a1dec741a.jpg: 416x416 1 Cat, Done. (0.015s)\n",
            "image 71/92 /content/yolov5/Wild_Animal_Detection-1/test/images/7526_jpg.rf.927c121c6c6fb43ed66c1a7f3530b650.jpg: 416x416 Done. (0.017s)\n",
            "image 72/92 /content/yolov5/Wild_Animal_Detection-1/test/images/7542_jpg.rf.4ab7c03ac97e28624cc10c70ce46755f.jpg: 416x416 Done. (0.020s)\n",
            "image 73/92 /content/yolov5/Wild_Animal_Detection-1/test/images/7560_jpg.rf.dd8b494a550d08083d7c5c6c81fa3733.jpg: 416x416 1 Cat, Done. (0.013s)\n",
            "image 74/92 /content/yolov5/Wild_Animal_Detection-1/test/images/7668_jpg.rf.9048dba2e992b9e6d6307154b9fd9a68.jpg: 416x416 1 Cat, Done. (0.038s)\n",
            "image 75/92 /content/yolov5/Wild_Animal_Detection-1/test/images/7716_jpg.rf.678fcd7113dcab3d18826fa939f5b2f3.jpg: 416x416 1 Cat, Done. (0.042s)\n",
            "image 76/92 /content/yolov5/Wild_Animal_Detection-1/test/images/7719_jpg.rf.9c4ec50ba4a4493f1ab3b318320a4845.jpg: 416x416 1 Cat, Done. (0.037s)\n",
            "image 77/92 /content/yolov5/Wild_Animal_Detection-1/test/images/8875_jpg.rf.f181a33809c74e521c07b413b931ff24.jpg: 416x416 1 Bear, Done. (0.038s)\n",
            "image 78/92 /content/yolov5/Wild_Animal_Detection-1/test/images/8895_jpg.rf.4445296f07c61b60c8ca8d73afa75813.jpg: 416x416 1 Bear, Done. (0.017s)\n",
            "image 79/92 /content/yolov5/Wild_Animal_Detection-1/test/images/8902_jpg.rf.c95200e9494ff3498b6431b4bc73afe9.jpg: 416x416 1 Bear, Done. (0.017s)\n",
            "image 80/92 /content/yolov5/Wild_Animal_Detection-1/test/images/8932_jpg.rf.fa47a5b2cc0838f003cb59ec1fbb032b.jpg: 416x416 1 Bear, Done. (0.023s)\n",
            "image 81/92 /content/yolov5/Wild_Animal_Detection-1/test/images/8933_jpg.rf.9e160b0508196227d61aeeee6276a935.jpg: 416x416 1 Bear, Done. (0.015s)\n",
            "image 82/92 /content/yolov5/Wild_Animal_Detection-1/test/images/8941_jpg.rf.0fc8472ff7d62d92d95f697e01e25d60.jpg: 416x416 1 Bear, Done. (0.015s)\n",
            "image 83/92 /content/yolov5/Wild_Animal_Detection-1/test/images/8958_jpg.rf.65d6cfcef936c084c3faa2e6f83bde24.jpg: 416x416 1 Bear, Done. (0.015s)\n",
            "image 84/92 /content/yolov5/Wild_Animal_Detection-1/test/images/8967_jpg.rf.9a065edda04ebc17b872085244051d81.jpg: 416x416 1 Bear, Done. (0.030s)\n",
            "image 85/92 /content/yolov5/Wild_Animal_Detection-1/test/images/9025_jpg.rf.23145a9c6dfbc4b8e56021eac81ae6f0.jpg: 416x416 1 Bear, Done. (0.033s)\n",
            "image 86/92 /content/yolov5/Wild_Animal_Detection-1/test/images/9046_jpg.rf.1998653b756eab57eae19e8fa419204a.jpg: 416x416 1 Bear, Done. (0.029s)\n",
            "image 87/92 /content/yolov5/Wild_Animal_Detection-1/test/images/9058_jpg.rf.db563ca4896ff7f0d0cb3a918e794d1f.jpg: 416x416 1 Bear, Done. (0.028s)\n",
            "image 88/92 /content/yolov5/Wild_Animal_Detection-1/test/images/9402_jpg.rf.8d6380e605c36222b1313d3b8c53d11b.jpg: 416x416 1 Bear, Done. (0.031s)\n",
            "image 89/92 /content/yolov5/Wild_Animal_Detection-1/test/images/9432_jpg.rf.f0d242a31d99006998b32ea5c8ae17c7.jpg: 416x416 1 Bear, Done. (0.028s)\n",
            "image 90/92 /content/yolov5/Wild_Animal_Detection-1/test/images/9446_jpg.rf.5672888134083c4795399f010f959770.jpg: 416x416 1 Bear, Done. (0.057s)\n",
            "image 91/92 /content/yolov5/Wild_Animal_Detection-1/test/images/9450_jpg.rf.e0b5a449c78b9093d93a5e694dcadc57.jpg: 416x416 1 Bear, Done. (0.059s)\n",
            "image 92/92 /content/yolov5/Wild_Animal_Detection-1/test/images/9453_jpg.rf.f569c6c2b1e0943538a0c94e0fa114ed.jpg: 416x416 1 Bear, Done. (0.054s)\n",
            "Speed: 0.6ms pre-process, 22.8ms inference, 2.1ms NMS per image at shape (1, 3, 416, 416)\n",
            "Results saved to \u001b[1mruns/detect/exp7\u001b[0m\n"
          ]
        }
      ],
      "source": [
        "# when we ran this, we saw .007 second inference time. That is 140 FPS on a TESLA P100!\n",
        "# use the best weights!\n",
        "%cd /content/yolov5/\n",
        "!python detect.py --weights runs/train/yolov5s_results3/weights/best.pt --img 416 --conf 0.4 --source /content/yolov5/Wild_Animal_Detection-1/test/images/"
      ]
    },
    {
      "cell_type": "code",
      "execution_count": null,
      "metadata": {
        "id": "odKEqYtTgbRc",
        "colab": {
          "base_uri": "https://localhost:8080/",
          "height": 468
        },
        "outputId": "15561cfc-e8d3-415d-ff69-6a1116f2c1b8"
      },
      "outputs": [
        {
          "output_type": "display_data",
          "data": {
            "image/jpeg": "[encoded data removed]",
            "text/plain": [
              "<IPython.core.display.Image object>"
            ]
          },
          "metadata": {}
        },
        {
          "output_type": "stream",
          "name": "stdout",
          "text": [
            "\n",
            "\n"
          ]
        }
      ],
      "source": [
        "#display inference on ALL test images\n",
        "#this looks much better with longer training above\n",
        "\n",
        "import glob\n",
        "from IPython.display import Image, display\n",
        "\n",
        "for imageName in glob.glob('/content/yolov5/runs/detect/exp3/1677_jpg.rf.e11eb79212011cbdcba83c841825d150.jpg'): #assuming JPG\n",
        "    display(Image(filename=imageName))\n",
        "    print(\"\\n\")"
      ]
    },
    {
      "cell_type": "code",
      "execution_count": null,
      "metadata": {
        "colab": {
          "base_uri": "https://localhost:8080/"
        },
        "id": "8q-iFhtjzOPS",
        "outputId": "19dc4969-ffdf-4ffa-9f64-e9c0fa2a8656"
      },
      "outputs": [
        {
          "output_type": "stream",
          "name": "stdout",
          "text": [
            "\u001b[34m\u001b[1mdetect: \u001b[0mweights=['/runs/train/yolov5s_results3/weights/best.pt'], source=1, data=data/coco128.yaml, imgsz=[416, 416], conf_thres=0.4, iou_thres=0.45, max_det=1000, device=, view_img=False, save_txt=False, save_conf=False, save_crop=False, nosave=False, classes=None, agnostic_nms=False, augment=False, visualize=False, update=False, project=runs/detect, name=exp, exist_ok=False, line_thickness=3, hide_labels=False, hide_conf=False, half=False, dnn=False\n",
            "YOLOv5 🚀 v6.1-306-gfbe67e4 Python-3.9.16 torch-1.13.1+cu116 CUDA:0 (Tesla T4, 15102MiB)\n",
            "\n",
            "Traceback (most recent call last):\n",
            "  File \"/content/yolov5/detect.py\", line 256, in <module>\n",
            "    main(opt)\n",
            "  File \"/content/yolov5/detect.py\", line 251, in main\n",
            "    run(**vars(opt))\n",
            "  File \"/usr/local/lib/python3.9/dist-packages/torch/autograd/grad_mode.py\", line 27, in decorate_context\n",
            "    return func(*args, **kwargs)\n",
            "  File \"/content/yolov5/detect.py\", line 92, in run\n",
            "    model = DetectMultiBackend(weights, device=device, dnn=dnn, data=data, fp16=half)\n",
            "  File \"/content/yolov5/models/common.py\", line 334, in __init__\n",
            "    model = attempt_load(weights if isinstance(weights, list) else w, device=device, inplace=True, fuse=fuse)\n",
            "  File \"/content/yolov5/models/experimental.py\", line 80, in attempt_load\n",
            "    ckpt = torch.load(attempt_download(w), map_location='cpu')  # load\n",
            "  File \"/usr/local/lib/python3.9/dist-packages/torch/serialization.py\", line 771, in load\n",
            "    with _open_file_like(f, 'rb') as opened_file:\n",
            "  File \"/usr/local/lib/python3.9/dist-packages/torch/serialization.py\", line 270, in _open_file_like\n",
            "    return _open_file(name_or_buffer, mode)\n",
            "  File \"/usr/local/lib/python3.9/dist-packages/torch/serialization.py\", line 251, in __init__\n",
            "    super(_open_file, self).__init__(open(name, mode))\n",
            "FileNotFoundError: [Errno 2] No such file or directory: '/runs/train/yolov5s_results3/weights/best.pt'\n"
          ]
        }
      ],
      "source": [
        "!python detect.py --weights /runs/train/yolov5s_results3/weights/best.pt --img 416 --conf 0.4 --source 1"
      ]
    },
    {
      "cell_type": "markdown",
      "metadata": {
        "id": "_uPq9mVgiBql"
      },
      "source": [
        "# Export Trained Weights for Future Inference\n",
        "\n",
        "Now that you have trained your custom detector, you can export the trained weights you have made here for inference on your device elsewhere"
      ]
    },
    {
      "cell_type": "code",
      "execution_count": null,
      "metadata": {
        "id": "YH4CTzDRh00g"
      },
      "outputs": [],
      "source": [
        "from google.colab import drive\n",
        "drive.mount('/content/gdrive')"
      ]
    },
    {
      "cell_type": "code",
      "execution_count": null,
      "metadata": {
        "id": "1x_wg3VeiXMW"
      },
      "outputs": [],
      "source": [
        "%cp /content/yolov5/runs/train/yolov5s_results/weights/best.pt /content/gdrive/My\\ Drive"
      ]
    }
  ],
  "metadata": {
    "accelerator": "GPU",
    "colab": {
      "provenance": []
    },
    "kernelspec": {
      "display_name": "Python 3",
      "name": "python3"
    }
  },
  "nbformat": 4,
  "nbformat_minor": 0
}